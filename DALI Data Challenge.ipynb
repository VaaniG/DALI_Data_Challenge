{
 "cells": [
  {
   "cell_type": "code",
   "execution_count": 32,
   "metadata": {},
   "outputs": [
    {
     "name": "stdout",
     "output_type": "stream",
     "text": [
      "mean-squared error is:  6332.481506823116\n"
     ]
    }
   ],
   "source": [
    "import numpy as np \n",
    "\n",
    "# Fit Linear Model for Given Data: Ax = b, where b is profits of the superstore from that customer/purchase\n",
    "# Least Squares Solution\n",
    "# May 15, 2022\n",
    "\n",
    "# x vector: x1 = number of years after 2014, x2 = state (stored as an integer from 1 to 50- in alphabetical order (ie Alabama is 1))\n",
    "# x3 = Category (1 if furniture, 2 if office supplies, 3 if technology), x4 = sales, x5 = product quantity, x6 = discount\n",
    "# there are 7 feature functions, where the first feature function is a constant term, \n",
    "# and the remaining 6 are related to x1, x2, x3, x4, x5, and x6\n",
    "\n",
    "# Function that finds the sum of squares of the difference between y and y_hat\n",
    "def findError(coordinates, yVal):\n",
    "    dimVal = np.shape(coordinates)\n",
    "    sumError = 0\n",
    "    for i in range(dimVal[0]):\n",
    "        squaredDiff = (coordinates[i] - yVal[i]) * (coordinates[i] - yVal[i])\n",
    "        sumError = sumError + squaredDiff\n",
    "        \n",
    "    return sumError\n",
    "\n",
    "# load processed data -- data that converted the states and categories to respective integers \n",
    "data = np.loadtxt(open(\"Processed_Data.csv\"), delimiter=\",\")\n",
    "\n",
    "# profits is last column of that data \n",
    "profits = data[:, 6]\n",
    "\n",
    "# for first feature function \n",
    "constColumn = np.ones((np.shape(data)[0], 1))\n",
    "\n",
    "# matrix of feature functions (overconstrained system)\n",
    "A = np.column_stack((constColumn, data[:, :6]))\n",
    "\n",
    "A_T_A = A.T @ A\n",
    "A_T_P = A.T @ profits\n",
    "\n",
    "# solve for the uknowns in the now fully constrained system \n",
    "solution = np.linalg.solve(A_T_A, A_T_P)\n",
    "\n",
    "# took last 102 data points as testing data and used it to find the mean-squared error \n",
    "testing_data = np.loadtxt(open(\"Testing_Data.csv\"), delimiter=\",\")\n",
    "\n",
    "testingConstCol = np.ones((np.shape(testing_data)[0], 1))\n",
    "B = np.column_stack((testingConstCol, testing_data[:, :6]))\n",
    "\n",
    "predictive_profits = B @ solution\n",
    "\n",
    "square_sum = findError(predictive_profits, testing_data[:, 6])\n",
    "print(\"mean-squared error is: \", square_sum/(np.shape(testing_data)[0]))\n",
    "\n",
    "## Given large mean squared error a linear predictive model is most likely not the best fit for the data given\n",
    "## Future Steps: Try Different Polynomial Fits and Modify Feature Functions To Account for Only Category, Quantity, and Discount "
   ]
  },
  {
   "cell_type": "code",
   "execution_count": null,
   "metadata": {},
   "outputs": [],
   "source": []
  }
 ],
 "metadata": {
  "kernelspec": {
   "display_name": "Python 3",
   "language": "python",
   "name": "python3"
  },
  "language_info": {
   "codemirror_mode": {
    "name": "ipython",
    "version": 3
   },
   "file_extension": ".py",
   "mimetype": "text/x-python",
   "name": "python",
   "nbconvert_exporter": "python",
   "pygments_lexer": "ipython3",
   "version": "3.8.5"
  }
 },
 "nbformat": 4,
 "nbformat_minor": 4
}
